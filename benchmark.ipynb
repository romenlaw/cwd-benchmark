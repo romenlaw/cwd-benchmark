{
 "cells": [
  {
   "cell_type": "code",
   "execution_count": 208,
   "id": "6020fd8d",
   "metadata": {},
   "outputs": [
    {
     "name": "stdout",
     "output_type": "stream",
     "text": [
      "The autoreload extension is already loaded. To reload it, use:\n",
      "  %reload_ext autoreload\n"
     ]
    }
   ],
   "source": [
    "%load_ext autoreload\n",
    "%autoreload 2"
   ]
  },
  {
   "cell_type": "markdown",
   "id": "c838a975",
   "metadata": {},
   "source": [
    "# Executive Summary\n",
    "\n",
    "This is a study of the paper: https://arxiv.org/pdf/2311.07509 , authored by the company data.world\n",
    "\n",
    "All the data are cloned from https://github.com/datadotworld/cwd-benchmark-data \n",
    "\n",
    "I compare 4 ways of generating database queries from English questions:\n",
    "1. from vanila DDL of relational model without any comments. The DDL file is about 150 lines ling. LLM soly depends on the table and field naming convention and entity relationships.\n",
    "2. same DDL with minimal comments added (<20 lines of comments)\n",
    "3. using R2RML instead of DDL to generate the SQL queries.\n",
    "4. using OWL to generate the SPARQL queries, then use R2RML to convert the SPARQL into SQL\n",
    "\n",
    "Methods 1 and 4 were the approaches taken by the data.world paper. The other 2 were exploratory for my own learning. \n",
    "\n",
    "Various metrics were measured:\n",
    "* Time duration for LLM to generate the queries\n",
    "* Number of tokens from the input files fed to the LLM. This is measured by copying the file into https://tiktokenizer.vercel.app/ using the GPT4 tokeniser.\n",
    "* Accuracy of the generated queries. The query accuracy is determined by comparing the above output SQL queries against standard answer provided by the dataset. "
   ]
  },
  {
   "cell_type": "markdown",
   "id": "64e4fcde",
   "metadata": {},
   "source": [
    "# Prepare Data\n",
    "\n",
    "Convert TTL files into pandas dataframes for easy analysis."
   ]
  },
  {
   "cell_type": "code",
   "execution_count": 1,
   "id": "15dcf3d5",
   "metadata": {},
   "outputs": [
    {
     "name": "stdout",
     "output_type": "stream",
     "text": [
      "Total triples: 950\n",
      "Entity types: {'SqlQuery': 45, 'SparqlQuery': 44, 'Inquiry': 44, 'Investigation': 1}\n"
     ]
    }
   ],
   "source": [
    "from ttl_to_dataframe import read_ttl_to_dataframe, analyze_ttl_content\n",
    "\n",
    "# Load TTL file into structured DataFrames\n",
    "df_triples, df_structured = read_ttl_to_dataframe(\"data/ACME_Insurance/investigation/acme-benchmark.ttl\")\n",
    "\n",
    "# Analyze the content\n",
    "analysis = analyze_ttl_content(df_triples, df_structured)\n",
    "\n",
    "print(f\"Total triples: {analysis['total_triples']}\")\n",
    "print(f\"Entity types: {analysis['entity_types']}\")"
   ]
  },
  {
   "cell_type": "code",
   "execution_count": 2,
   "id": "1a70dcd6",
   "metadata": {},
   "outputs": [
    {
     "data": {
      "text/plain": [
       "array(['SqlQuery', 'SparqlQuery', 'Inquiry', 'Investigation'],\n",
       "      dtype=object)"
      ]
     },
     "execution_count": 2,
     "metadata": {},
     "output_type": "execute_result"
    }
   ],
   "source": [
    "df_structured['entity_type'].unique()"
   ]
  },
  {
   "cell_type": "markdown",
   "id": "2ecfc14d",
   "metadata": {},
   "source": [
    "# Build DB\n",
    "\n",
    "create an in-memory ralational database from the CSV files downloaded from data.world github repo."
   ]
  },
  {
   "cell_type": "code",
   "execution_count": 3,
   "id": "0b854c1d",
   "metadata": {},
   "outputs": [],
   "source": [
    "import duckdb\n",
    "import pandas as pd\n",
    "\n",
    "import os\n",
    "\n",
    "csv_dir = \"data/ACME_Insurance/data\"\n",
    "csv_files = [f for f in os.listdir(csv_dir) if f.endswith(\".csv\")]\n",
    "\n",
    "# Connect to DuckDB (in-memory)\n",
    "conn = duckdb.connect(':memory:')\n",
    "\n",
    "# Create views for easier querying\n",
    "for csv in csv_files:\n",
    "    csv_file = f\"{csv_dir}/{csv}\"\n",
    "    table_name = csv.split('.')[0]\n",
    "    conn.execute(f\"CREATE VIEW {table_name} AS SELECT * FROM read_csv_auto('{csv_file}')\")"
   ]
  },
  {
   "cell_type": "code",
   "execution_count": null,
   "id": "4453331a",
   "metadata": {},
   "outputs": [
    {
     "data": {
      "text/html": [
       "<div>\n",
       "<style scoped>\n",
       "    .dataframe tbody tr th:only-of-type {\n",
       "        vertical-align: middle;\n",
       "    }\n",
       "\n",
       "    .dataframe tbody tr th {\n",
       "        vertical-align: top;\n",
       "    }\n",
       "\n",
       "    .dataframe thead th {\n",
       "        text-align: right;\n",
       "    }\n",
       "</style>\n",
       "<table border=\"1\" class=\"dataframe\">\n",
       "  <thead>\n",
       "    <tr style=\"text-align: right;\">\n",
       "      <th></th>\n",
       "      <th>policyHolder</th>\n",
       "      <th>policy</th>\n",
       "      <th>premium</th>\n",
       "    </tr>\n",
       "  </thead>\n",
       "  <tbody>\n",
       "    <tr>\n",
       "      <th>0</th>\n",
       "      <td>1</td>\n",
       "      <td>1</td>\n",
       "      <td>6</td>\n",
       "    </tr>\n",
       "    <tr>\n",
       "      <th>1</th>\n",
       "      <td>1</td>\n",
       "      <td>1</td>\n",
       "      <td>8</td>\n",
       "    </tr>\n",
       "    <tr>\n",
       "      <th>2</th>\n",
       "      <td>1</td>\n",
       "      <td>1</td>\n",
       "      <td>2</td>\n",
       "    </tr>\n",
       "    <tr>\n",
       "      <th>3</th>\n",
       "      <td>1</td>\n",
       "      <td>2</td>\n",
       "      <td>12</td>\n",
       "    </tr>\n",
       "    <tr>\n",
       "      <th>4</th>\n",
       "      <td>1</td>\n",
       "      <td>1</td>\n",
       "      <td>4</td>\n",
       "    </tr>\n",
       "    <tr>\n",
       "      <th>5</th>\n",
       "      <td>1</td>\n",
       "      <td>1</td>\n",
       "      <td>10</td>\n",
       "    </tr>\n",
       "  </tbody>\n",
       "</table>\n",
       "</div>"
      ],
      "text/plain": [
       "  policyHolder policy premium\n",
       "0            1      1       6\n",
       "1            1      1       8\n",
       "2            1      1       2\n",
       "3            1      2      12\n",
       "4            1      1       4\n",
       "5            1      1      10"
      ]
     },
     "execution_count": 4,
     "metadata": {},
     "output_type": "execute_result"
    }
   ],
   "source": [
    "# Now query like regular tables\n",
    "result = conn.execute(\"\"\"\n",
    "SELECT DISTINCT \n",
    "  '' || phr.party_identifier AS policyHolder,\n",
    "  '' || p.policy_identifier AS policy,\n",
    "  '' || prm.policy_amount_identifier AS premium\n",
    "FROM policy p\n",
    "JOIN policy_coverage_detail pcd ON pcd.policy_identifier = p.policy_identifier\n",
    "JOIN policy_amount pa ON pa.policy_coverage_detail_identifier = pcd.policy_coverage_detail_identifier\n",
    "JOIN premium prm ON pa.policy_amount_identifier = prm.policy_amount_identifier\n",
    "JOIN (\n",
    "    SELECT DISTINCT policy.policy_identifier, party_identifier\n",
    "    FROM agreement_party_role\n",
    "    JOIN policy ON agreement_party_role.agreement_identifier = policy.policy_identifier\n",
    "    WHERE agreement_party_role.party_role_code = 'PH'\n",
    ") phr ON phr.policy_identifier = p.policy_identifier\n",
    "\"\"\").fetchdf()\n",
    "\n",
    "result"
   ]
  },
  {
   "cell_type": "code",
   "execution_count": null,
   "id": "74b59604",
   "metadata": {},
   "outputs": [],
   "source": [
    "conn.close()"
   ]
  },
  {
   "cell_type": "markdown",
   "id": "0cbaed5b",
   "metadata": {},
   "source": [
    "# SQL\n",
    "\n",
    "Prepare the SQL dataset.\n",
    "There are some errors in the data.world dataset, I had to manually fix and replace them."
   ]
  },
  {
   "cell_type": "code",
   "execution_count": 7,
   "id": "bce11384",
   "metadata": {},
   "outputs": [
    {
     "data": {
      "text/html": [
       "<div>\n",
       "<style scoped>\n",
       "    .dataframe tbody tr th:only-of-type {\n",
       "        vertical-align: middle;\n",
       "    }\n",
       "\n",
       "    .dataframe tbody tr th {\n",
       "        vertical-align: top;\n",
       "    }\n",
       "\n",
       "    .dataframe thead th {\n",
       "        text-align: right;\n",
       "    }\n",
       "</style>\n",
       "<table border=\"1\" class=\"dataframe\">\n",
       "  <thead>\n",
       "    <tr style=\"text-align: right;\">\n",
       "      <th></th>\n",
       "      <th>question</th>\n",
       "      <th>sql</th>\n",
       "    </tr>\n",
       "  </thead>\n",
       "  <tbody>\n",
       "    <tr>\n",
       "      <th>0</th>\n",
       "      <td>How many claims do we have?</td>\n",
       "      <td>SELECT COUNT(*) AS NoOfClaims\\nFROM claim</td>\n",
       "    </tr>\n",
       "    <tr>\n",
       "      <th>1</th>\n",
       "      <td>What are the expense payment amount of all cla...</td>\n",
       "      <td>SELECT\\n    company_claim_number,\\n    claim_a...</td>\n",
       "    </tr>\n",
       "    <tr>\n",
       "      <th>2</th>\n",
       "      <td>Return agents and the policy they have sold th...</td>\n",
       "      <td>SELECT\\n    party_identifier as AgentID,\\n    ...</td>\n",
       "    </tr>\n",
       "    <tr>\n",
       "      <th>3</th>\n",
       "      <td>What is the total loss amounts, which is the s...</td>\n",
       "      <td>SELECT\\n    company_claim_number,\\n    (ca_lp....</td>\n",
       "    </tr>\n",
       "    <tr>\n",
       "      <th>4</th>\n",
       "      <td>What are the loss payment, loss reserve, expen...</td>\n",
       "      <td>SELECT\\n    apr2.party_identifier as AgentID,\\...</td>\n",
       "    </tr>\n",
       "  </tbody>\n",
       "</table>\n",
       "</div>"
      ],
      "text/plain": [
       "                                            question  \\\n",
       "0                        How many claims do we have?   \n",
       "1  What are the expense payment amount of all cla...   \n",
       "2  Return agents and the policy they have sold th...   \n",
       "3  What is the total loss amounts, which is the s...   \n",
       "4  What are the loss payment, loss reserve, expen...   \n",
       "\n",
       "                                                 sql  \n",
       "0          SELECT COUNT(*) AS NoOfClaims\\nFROM claim  \n",
       "1  SELECT\\n    company_claim_number,\\n    claim_a...  \n",
       "2  SELECT\\n    party_identifier as AgentID,\\n    ...  \n",
       "3  SELECT\\n    company_claim_number,\\n    (ca_lp....  \n",
       "4  SELECT\\n    apr2.party_identifier as AgentID,\\...  "
      ]
     },
     "execution_count": 7,
     "metadata": {},
     "output_type": "execute_result"
    }
   ],
   "source": [
    "df_sql = df_structured[df_structured['entity_type']=='SqlQuery']\n",
    "df_sql = df_sql[['description', 'content']]\n",
    "df_sql.columns = ['question', 'sql']\n",
    "\n",
    "# fix syntax error of SQL\n",
    "df_sql.loc[7, 'sql'] =  \"\"\"\n",
    "select policy_number, avg(DATE_DIFF('day', claim_open_date, claim_close_date ))\n",
    "from claim \n",
    "inner join claim_coverage on claim.claim_identifier = claim_coverage.claim_identifier\n",
    "inner join policy_coverage_detail on claim_coverage.policy_coverage_detail_identifier = policy_coverage_detail.policy_coverage_detail_identifier\n",
    "inner join policy on policy.policy_identifier = policy_coverage_detail.policy_identifier\n",
    "where claim_close_date IS NOT NULL\n",
    "group by policy_number\n",
    "\"\"\"\n",
    "\n",
    "df_sql.loc[12, 'sql'] = \"\"\"\n",
    "SELECT\n",
    "    apr2.party_identifier as AgentID,\n",
    "    apr1.party_identifier as PolicyHolderID, \n",
    "    policy_number,\n",
    "    policy_amount as premium, \n",
    "    catastrophe_name,\n",
    "    company_claim_number,\n",
    "    ca_lp.claim_amount as Loss_Payment_Amount\n",
    "FROM\n",
    "    Claim\n",
    "    inner join catastrophe on claim.catastrophe_identifier = catastrophe.catastrophe_identifier\n",
    "    inner join claim_amount ca_lp on claim.claim_identifier = ca_lp.claim_identifier\n",
    "    inner JOIN loss_payment ON ca_lp.claim_amount_identifier = loss_payment.claim_amount_identifier\n",
    "    inner join claim_amount ca_lr on claim.claim_identifier = ca_lr.claim_identifier\n",
    "    inner JOIN loss_reserve ON ca_lr.claim_amount_identifier = loss_reserve.claim_amount_identifier\n",
    "    inner join claim_amount ca_ep on claim.claim_identifier = ca_ep.claim_identifier\n",
    "    inner JOIN expense_payment ON ca_ep.claim_amount_identifier = expense_payment.claim_amount_identifier\n",
    "    inner join claim_amount ca_er on claim.claim_identifier = ca_er.claim_identifier\n",
    "    inner JOIN expense_reserve ON ca_er.claim_amount_identifier = expense_reserve.claim_amount_identifier\n",
    "    inner join claim_coverage on claim.claim_identifier = claim_coverage.claim_identifier\n",
    "    inner join policy_coverage_detail on claim_coverage.policy_coverage_detail_identifier = policy_coverage_detail.policy_coverage_detail_identifier\n",
    "    inner join policy on policy.policy_identifier = policy_coverage_detail.policy_identifier\n",
    "    inner join policy_amount on policy_coverage_detail.policy_coverage_detail_identifier = policy_amount.policy_coverage_detail_identifier\n",
    "    inner join  agreement_party_role apr1 on apr1.agreement_identifier = policy.policy_identifier\n",
    "    inner join  agreement_party_role apr2 on apr2.agreement_identifier = policy.policy_identifier\n",
    "    inner join premium on premium.policy_amount_identifier = policy_amount.policy_amount_identifier\n",
    "where apr1.party_role_code = 'PH' and apr2.party_role_code = 'AG'\n",
    "\"\"\"\n",
    "\n",
    "df_sql.head()"
   ]
  },
  {
   "cell_type": "markdown",
   "id": "994c5a08",
   "metadata": {},
   "source": [
    "## Generate"
   ]
  },
  {
   "cell_type": "code",
   "execution_count": null,
   "id": "2ad8eff3",
   "metadata": {},
   "outputs": [],
   "source": [
    "import utils\n",
    "import time\n",
    "from typing import List, Tuple\n",
    "\n",
    "def gen_sql_from_ddl(ddl: str)->Tuple[List[str], List[float]]:\n",
    "    \"\"\"For each questions in df_sql dataframe, use the DDL passed in as context to generate the SQL query\n",
    "    using LLM. Return the list of SQL queries, and the list of durations, one for each question and answer.\n",
    "    \n",
    "    Args:\n",
    "        ddl (str): the DDL statement that define the relational database\n",
    "\n",
    "    Returns:\n",
    "        queries (list[str]): list of SQL queries based on the questions in df_sql\n",
    "        durations (list[float]): list of durations (in seconds) that the LLM took to generate the SQL queries\n",
    "    \"\"\"\n",
    "    queries, durations = [], []\n",
    "    for row in df_sql.itertuples(index=False):\n",
    "        question = row.question\n",
    "\n",
    "        start_time = time.perf_counter()\n",
    "        PROMPT = f\"\"\"\n",
    "Given the database described by the following DDL:\n",
    "```sql\n",
    "{ddl}\n",
    "```\n",
    "Write a SQL query that answers the following question. Do not explain the query. return just the query, so it can be run\n",
    "verbatim from your response. Do not use code fencing. The target database is DuckDB, so use its SQL syntax.\n",
    "Here's the question:\n",
    "{question}\n",
    "        \"\"\"\n",
    "\n",
    "        messages = [{\"role\": \"user\", \"content\": PROMPT}\n",
    "                    ]\n",
    "        response = utils.client.chat.completions.create(\n",
    "            # model='guardrails-bedrock-claude-4-sonnet', \n",
    "            # model = 'guardrails-o3-mini_v2025-01-31_EASTUS2', \n",
    "            model=utils.CHAT_MODEL,\n",
    "            messages=messages)\n",
    "        queries.append(response.choices[0].message.content)\n",
    "\n",
    "        end_time = time.perf_counter()\n",
    "        durations.append(end_time - start_time)\n",
    "        \n",
    "    return queries, durations"
   ]
  },
  {
   "cell_type": "markdown",
   "id": "84f2b437",
   "metadata": {},
   "source": [
    "### using vanila DDL\n",
    "The DDL file has 1505 tokens (using gpt4's tokeniser)."
   ]
  },
  {
   "cell_type": "code",
   "execution_count": 8,
   "id": "8f3aeeaa",
   "metadata": {},
   "outputs": [],
   "source": [
    "with open('data/ACME_Insurance/DDL/ACME_small.ddl', 'r') as f:\n",
    "    ddl = f.read()\n",
    "\n",
    "queries, durations = gen_sql_from_ddl(ddl)"
   ]
  },
  {
   "cell_type": "code",
   "execution_count": 11,
   "id": "327f8e08",
   "metadata": {},
   "outputs": [],
   "source": [
    "df_sql['sql_ddl'] = queries\n",
    "df_sql['dur_ddl'] = durations"
   ]
  },
  {
   "cell_type": "code",
   "execution_count": null,
   "id": "13242376",
   "metadata": {},
   "outputs": [],
   "source": [
    "df_sql.to_excel('output/sql_results.xlsx', index=False)"
   ]
  },
  {
   "cell_type": "markdown",
   "id": "2e5602ad",
   "metadata": {},
   "source": [
    "### using commented DDL\n",
    "Number of tokens of the commented DDL file is 2077."
   ]
  },
  {
   "cell_type": "code",
   "execution_count": 13,
   "id": "69e78032",
   "metadata": {},
   "outputs": [],
   "source": [
    "import utils \n",
    "\n",
    "with open('data/ACME_Insurance/DDL/ACME_comented.ddl', 'r') as f:\n",
    "    ddl = f.read()\n",
    "\n",
    "queries, durations = gen_sql_from_ddl(ddl)\n",
    "df_sql['sql_ddlcmt'] = queries\n",
    "df_sql['dur_ddlcmt'] = durations"
   ]
  },
  {
   "cell_type": "code",
   "execution_count": 14,
   "id": "5a85afdb",
   "metadata": {},
   "outputs": [],
   "source": [
    "df_sql.to_excel('output/sql_results.xlsx', index=False)"
   ]
  },
  {
   "cell_type": "markdown",
   "id": "abd47145",
   "metadata": {},
   "source": [
    "## Evaluate"
   ]
  },
  {
   "cell_type": "code",
   "execution_count": null,
   "id": "32a55815",
   "metadata": {},
   "outputs": [],
   "source": [
    "from typing import List, Tuple\n",
    "\n",
    "def run_sqls(column_name:str)->Tuple[List[str], List[str]]:\n",
    "    \"\"\"execute the standard answer and generated SQL queries in df_sql and return both lists of results\n",
    "    Args:\n",
    "        column_name (str): df_sql column name of the generated SQL queries\n",
    "\n",
    "    Returns:\n",
    "        results_1 (list[str]): SQL output from standard answer SQL statements\n",
    "        results_2 (list[str]): SQL output from generated SQL statements\n",
    "    \"\"\"\n",
    "    results_1, results_2 = [], []\n",
    "    # for row in df_sql.itertuples(index=False):\n",
    "    for idx, row in df_sql.iterrows():\n",
    "        sql = row['sql']\n",
    "        answer = row[column_name]\n",
    "\n",
    "        try:\n",
    "            result1 = conn.execute(sql).fetch_df()\n",
    "        except Exception as e:\n",
    "            result1 = pd.DataFrame([f\"error: {e}\"])\n",
    "        \n",
    "        try:\n",
    "            result2 = conn.execute(answer).fetch_df()\n",
    "        except Exception as e:\n",
    "            result2 = pd.DataFrame([f\"error: {e}\"])\n",
    "            \n",
    "        results_1.append(result1)\n",
    "        results_2.append(result2)\n",
    "\n",
    "    return results_1, results_2"
   ]
  },
  {
   "cell_type": "code",
   "execution_count": 15,
   "id": "5afb0e7a",
   "metadata": {},
   "outputs": [],
   "source": [
    "df_sql = pd.read_excel('output/sql_results.xlsx')"
   ]
  },
  {
   "cell_type": "code",
   "execution_count": 16,
   "id": "6bcf9f7c",
   "metadata": {},
   "outputs": [
    {
     "data": {
      "text/html": [
       "<div>\n",
       "<style scoped>\n",
       "    .dataframe tbody tr th:only-of-type {\n",
       "        vertical-align: middle;\n",
       "    }\n",
       "\n",
       "    .dataframe tbody tr th {\n",
       "        vertical-align: top;\n",
       "    }\n",
       "\n",
       "    .dataframe thead th {\n",
       "        text-align: right;\n",
       "    }\n",
       "</style>\n",
       "<table border=\"1\" class=\"dataframe\">\n",
       "  <thead>\n",
       "    <tr style=\"text-align: right;\">\n",
       "      <th></th>\n",
       "      <th>question</th>\n",
       "      <th>sql</th>\n",
       "      <th>sql_ddl</th>\n",
       "      <th>dur_ddl</th>\n",
       "      <th>sql_ddlcmt</th>\n",
       "      <th>dur_ddlcmt</th>\n",
       "    </tr>\n",
       "  </thead>\n",
       "  <tbody>\n",
       "    <tr>\n",
       "      <th>0</th>\n",
       "      <td>How many claims do we have?</td>\n",
       "      <td>SELECT COUNT(*) AS NoOfClaims\\nFROM claim</td>\n",
       "      <td>SELECT COUNT(*) AS claim_count FROM Claim;</td>\n",
       "      <td>1.745807</td>\n",
       "      <td>SELECT COUNT(*) AS claim_count FROM Claim;</td>\n",
       "      <td>1.179061</td>\n",
       "    </tr>\n",
       "    <tr>\n",
       "      <th>1</th>\n",
       "      <td>What are the expense payment amount of all cla...</td>\n",
       "      <td>SELECT\\n    company_claim_number,\\n    claim_a...</td>\n",
       "      <td>select \\n  c.Company_Claim_Number,\\n  sum(ca.C...</td>\n",
       "      <td>1.056521</td>\n",
       "      <td>select \\n    c.Company_Claim_Number,\\n    sum(...</td>\n",
       "      <td>1.021215</td>\n",
       "    </tr>\n",
       "    <tr>\n",
       "      <th>2</th>\n",
       "      <td>Return agents and the policy they have sold th...</td>\n",
       "      <td>SELECT\\n    party_identifier as AgentID,\\n    ...</td>\n",
       "      <td>SELECT\\n    p.Policy_Identifier,\\n    p.Policy...</td>\n",
       "      <td>1.952906</td>\n",
       "      <td>SELECT\\n  a.Policy_Identifier,\\n  p.Policy_Num...</td>\n",
       "      <td>2.316528</td>\n",
       "    </tr>\n",
       "    <tr>\n",
       "      <th>3</th>\n",
       "      <td>What is the total loss amounts, which is the s...</td>\n",
       "      <td>SELECT\\n    company_claim_number,\\n    (ca_lp....</td>\n",
       "      <td>select\\n  c.Company_Claim_Number,\\n  sum(coale...</td>\n",
       "      <td>1.436160</td>\n",
       "      <td>select\\n  c.Company_Claim_Number,\\n  sum(ca.Cl...</td>\n",
       "      <td>1.984121</td>\n",
       "    </tr>\n",
       "    <tr>\n",
       "      <th>4</th>\n",
       "      <td>What are the loss payment, loss reserve, expen...</td>\n",
       "      <td>SELECT\\n    apr2.party_identifier as AgentID,\\...</td>\n",
       "      <td>SELECT\\n    c.Company_Claim_Number AS Claim_Nu...</td>\n",
       "      <td>5.623636</td>\n",
       "      <td>SELECT \\n    c.Company_Claim_Number,\\n    p.Po...</td>\n",
       "      <td>5.838963</td>\n",
       "    </tr>\n",
       "  </tbody>\n",
       "</table>\n",
       "</div>"
      ],
      "text/plain": [
       "                                            question  \\\n",
       "0                        How many claims do we have?   \n",
       "1  What are the expense payment amount of all cla...   \n",
       "2  Return agents and the policy they have sold th...   \n",
       "3  What is the total loss amounts, which is the s...   \n",
       "4  What are the loss payment, loss reserve, expen...   \n",
       "\n",
       "                                                 sql  \\\n",
       "0          SELECT COUNT(*) AS NoOfClaims\\nFROM claim   \n",
       "1  SELECT\\n    company_claim_number,\\n    claim_a...   \n",
       "2  SELECT\\n    party_identifier as AgentID,\\n    ...   \n",
       "3  SELECT\\n    company_claim_number,\\n    (ca_lp....   \n",
       "4  SELECT\\n    apr2.party_identifier as AgentID,\\...   \n",
       "\n",
       "                                             sql_ddl   dur_ddl  \\\n",
       "0         SELECT COUNT(*) AS claim_count FROM Claim;  1.745807   \n",
       "1  select \\n  c.Company_Claim_Number,\\n  sum(ca.C...  1.056521   \n",
       "2  SELECT\\n    p.Policy_Identifier,\\n    p.Policy...  1.952906   \n",
       "3  select\\n  c.Company_Claim_Number,\\n  sum(coale...  1.436160   \n",
       "4  SELECT\\n    c.Company_Claim_Number AS Claim_Nu...  5.623636   \n",
       "\n",
       "                                          sql_ddlcmt  dur_ddlcmt  \n",
       "0         SELECT COUNT(*) AS claim_count FROM Claim;    1.179061  \n",
       "1  select \\n    c.Company_Claim_Number,\\n    sum(...    1.021215  \n",
       "2  SELECT\\n  a.Policy_Identifier,\\n  p.Policy_Num...    2.316528  \n",
       "3  select\\n  c.Company_Claim_Number,\\n  sum(ca.Cl...    1.984121  \n",
       "4  SELECT \\n    c.Company_Claim_Number,\\n    p.Po...    5.838963  "
      ]
     },
     "execution_count": 16,
     "metadata": {},
     "output_type": "execute_result"
    }
   ],
   "source": [
    "df_sql.head()"
   ]
  },
  {
   "cell_type": "markdown",
   "id": "36e94443",
   "metadata": {},
   "source": [
    "### Vanila DDL SQL queries"
   ]
  },
  {
   "cell_type": "code",
   "execution_count": 32,
   "id": "7d520711",
   "metadata": {},
   "outputs": [],
   "source": [
    "results_1, results_2 = run_sqls('sql_ddl')"
   ]
  },
  {
   "cell_type": "code",
   "execution_count": 275,
   "id": "43cb6c89",
   "metadata": {},
   "outputs": [
    {
     "name": "stdout",
     "output_type": "stream",
     "text": [
      "correct anwers: 46.666666666666664%\n"
     ]
    }
   ],
   "source": [
    "# 37 is arguable\n",
    "correct_row_idxs = [0, 1, 3, 6, 8, 9, 10, 13, 14, 16, 18, 27, 29, 30, 31, 33, 37, 38, 40, 41, 42]\n",
    "print(f\"correct anwers: {len(correct_row_idxs)/len(df_sql)*100}%\")"
   ]
  },
  {
   "cell_type": "code",
   "execution_count": 35,
   "id": "db4347aa",
   "metadata": {},
   "outputs": [
    {
     "data": {
      "text/plain": [
       "(   Policy_Number  Company_Claim_Number Catastrophe_Name  Loss\n",
       " 0    31003000336              12312701             Fire  4600\n",
       " 1    31003000336              12312702             Fire  9000,\n",
       "    Company_Claim_Number Catastrophe_Name  Policy_Number  Loss_Payment_Amount  \\\n",
       " 0              12312701             Fire    31003000336               1200.0   \n",
       " 1              12312702             Fire    31003000336               2300.0   \n",
       " \n",
       "    Loss_Reserve_Amount  Expense_Payment_Amount  Expense_Reserve_Amount  \\\n",
       " 0               1000.0                  1300.0                  1100.0   \n",
       " 1               2100.0                  2400.0                  2200.0   \n",
       " \n",
       "    Total_Loss_Amount  \n",
       " 0             4600.0  \n",
       " 1             9000.0  )"
      ]
     },
     "execution_count": 35,
     "metadata": {},
     "output_type": "execute_result"
    }
   ],
   "source": [
    "idx=16\n",
    "results_1[idx], results_2[idx]"
   ]
  },
  {
   "cell_type": "markdown",
   "id": "d640fb8c",
   "metadata": {},
   "source": [
    "### Commented DDL SQL queries"
   ]
  },
  {
   "cell_type": "code",
   "execution_count": 36,
   "id": "5f1e7732",
   "metadata": {},
   "outputs": [],
   "source": [
    "results_1, results_2 = run_sqls('sql_ddlcmt')"
   ]
  },
  {
   "cell_type": "code",
   "execution_count": 197,
   "id": "037b521a",
   "metadata": {},
   "outputs": [
    {
     "name": "stdout",
     "output_type": "stream",
     "text": [
      "correct anwers: 75.55555555555556%\n"
     ]
    }
   ],
   "source": [
    "correct_row_idxs = [0, 1, 3, 4, 5, 6, 8, 9, 10, 11, 12, 13, 15, 16, 17, 18, 19, 22, 24, 26, 27, 28, 29, \n",
    "                    30, 31, 32, 33, 36, 37, 38, 40, 41, 42, 43]\n",
    "print(f\"correct anwers: {len(correct_row_idxs)/len(df_sql)*100}%\")"
   ]
  },
  {
   "cell_type": "code",
   "execution_count": 37,
   "id": "a16b1a1f",
   "metadata": {},
   "outputs": [
    {
     "data": {
      "text/plain": [
       "(   AgentID  Policy_Number  Company_Claim_Number  Expense_Reserve_Amount\n",
       " 0        2    31003000336              12312702                    2200\n",
       " 1        2    31003000336              12312701                    1100,\n",
       "    Agent_Identifier  Policy_Number  Company_Claim_Number  \\\n",
       " 0                 2    31003000336              12312701   \n",
       " 1                 2    31003000337              12312702   \n",
       " \n",
       "    Expense_Reserve_Amount  \n",
       " 0                    1100  \n",
       " 1                    2200  )"
      ]
     },
     "execution_count": 37,
     "metadata": {},
     "output_type": "execute_result"
    }
   ],
   "source": [
    "idx=44\n",
    "results_1[idx], results_2[idx]"
   ]
  },
  {
   "cell_type": "markdown",
   "id": "fada3bb4",
   "metadata": {},
   "source": [
    "# SparQL"
   ]
  },
  {
   "cell_type": "code",
   "execution_count": 39,
   "id": "e56577b2",
   "metadata": {},
   "outputs": [
    {
     "data": {
      "text/html": [
       "<div>\n",
       "<style scoped>\n",
       "    .dataframe tbody tr th:only-of-type {\n",
       "        vertical-align: middle;\n",
       "    }\n",
       "\n",
       "    .dataframe tbody tr th {\n",
       "        vertical-align: top;\n",
       "    }\n",
       "\n",
       "    .dataframe thead th {\n",
       "        text-align: right;\n",
       "    }\n",
       "</style>\n",
       "<table border=\"1\" class=\"dataframe\">\n",
       "  <thead>\n",
       "    <tr style=\"text-align: right;\">\n",
       "      <th></th>\n",
       "      <th>question</th>\n",
       "      <th>sparql</th>\n",
       "    </tr>\n",
       "  </thead>\n",
       "  <tbody>\n",
       "    <tr>\n",
       "      <th>45</th>\n",
       "      <td>What are the loss payment, loss reserve, expen...</td>\n",
       "      <td>PREFIX : &lt;https://myinsurancecompany.linked.da...</td>\n",
       "    </tr>\n",
       "    <tr>\n",
       "      <th>46</th>\n",
       "      <td>How many policies do we have?</td>\n",
       "      <td>PREFIX : &lt;https://myinsurancecompany.linked.da...</td>\n",
       "    </tr>\n",
       "    <tr>\n",
       "      <th>47</th>\n",
       "      <td>What are the loss payment, loss reserve, expen...</td>\n",
       "      <td>PREFIX : &lt;https://myinsurancecompany.linked.da...</td>\n",
       "    </tr>\n",
       "    <tr>\n",
       "      <th>48</th>\n",
       "      <td>What is the premium amount of all policies by ...</td>\n",
       "      <td>PREFIX : &lt;https://myinsurancecompany.linked.da...</td>\n",
       "    </tr>\n",
       "    <tr>\n",
       "      <th>49</th>\n",
       "      <td>Return all the policies and the agents that so...</td>\n",
       "      <td>PREFIX : &lt;https://myinsurancecompany.linked.da...</td>\n",
       "    </tr>\n",
       "  </tbody>\n",
       "</table>\n",
       "</div>"
      ],
      "text/plain": [
       "                                             question  \\\n",
       "45  What are the loss payment, loss reserve, expen...   \n",
       "46                      How many policies do we have?   \n",
       "47  What are the loss payment, loss reserve, expen...   \n",
       "48  What is the premium amount of all policies by ...   \n",
       "49  Return all the policies and the agents that so...   \n",
       "\n",
       "                                               sparql  \n",
       "45  PREFIX : <https://myinsurancecompany.linked.da...  \n",
       "46  PREFIX : <https://myinsurancecompany.linked.da...  \n",
       "47  PREFIX : <https://myinsurancecompany.linked.da...  \n",
       "48  PREFIX : <https://myinsurancecompany.linked.da...  \n",
       "49  PREFIX : <https://myinsurancecompany.linked.da...  "
      ]
     },
     "execution_count": 39,
     "metadata": {},
     "output_type": "execute_result"
    }
   ],
   "source": [
    "df_sparql = df_structured[df_structured['entity_type']=='SparqlQuery']\n",
    "df_sparql = df_sparql[['description', 'content']]\n",
    "df_sparql.columns = ['question', 'sparql']\n",
    "df_sparql.head()"
   ]
  },
  {
   "cell_type": "markdown",
   "id": "447e013d",
   "metadata": {},
   "source": [
    "## Generate\n",
    "### SPARQL\n",
    "44 Q&A.\n",
    "The TTL file is about 2.76K tokens."
   ]
  },
  {
   "cell_type": "code",
   "execution_count": 41,
   "id": "18193913",
   "metadata": {},
   "outputs": [],
   "source": [
    "import time\n",
    "import utils \n",
    "\n",
    "with open('data/ACME_Insurance/ontology/insurance.ttl', 'r') as f:\n",
    "    ttl = f.read()\n",
    "\n",
    "queries, durations = [], []\n",
    "for row in df_sparql.itertuples(index=False):\n",
    "    question = row.question\n",
    "\n",
    "    start_time = time.perf_counter()\n",
    "    PROMPT = f\"\"\"\n",
    "Given the OWL model described in the following TTL file:\n",
    "```ttl\n",
    "{ttl}\n",
    "```\n",
    "Write a SPARQL query that answers the question. The data for your query is available in a SERVICE identified by\n",
    ":mapped. Do not explain the query. return just the query, so it can be run verbatim from your response.\n",
    "Do not include any code fencing in the response.\n",
    "Here's the question:\n",
    "{question}\n",
    "    \"\"\"\n",
    "\n",
    "    messages = [{\"role\": \"user\", \"content\": PROMPT}\n",
    "                ]\n",
    "    response = utils.client.chat.completions.create(\n",
    "        # model='guardrails-bedrock-claude-4-sonnet', \n",
    "        # model = 'guardrails-o3-mini_v2025-01-31_EASTUS2', \n",
    "        model=utils.CHAT_MODEL,\n",
    "        messages=messages)\n",
    "    queries.append(response.choices[0].message.content)\n",
    "\n",
    "    end_time = time.perf_counter()\n",
    "    durations.append(end_time - start_time)\n",
    "    \n",
    "df_sparql['sparql_gen'] = queries\n",
    "df_sparql['sparql_gen_dur'] = durations"
   ]
  },
  {
   "cell_type": "code",
   "execution_count": 42,
   "id": "c45f7e7a",
   "metadata": {},
   "outputs": [],
   "source": [
    "df_sparql.to_excel('output/sparql_results.xlsx', index=False)"
   ]
  },
  {
   "cell_type": "markdown",
   "id": "2f137756",
   "metadata": {},
   "source": [
    "### SQL from SPARQL with R2RML\n",
    "\n",
    "Now that we have go the generated SPARQL, we can convert it into SQL using LLM.\n",
    "I am using LLM because all other attempts by using various python libraries failed."
   ]
  },
  {
   "cell_type": "code",
   "execution_count": 44,
   "id": "9f0bdc08",
   "metadata": {},
   "outputs": [],
   "source": [
    "import time\n",
    "import utils \n",
    "\n",
    "with open('data/ACME_Insurance/data/data.world_P&C_Insurance_Ontology_V1.r2rml', 'r') as f:\n",
    "    r2rml = f.read()\n",
    "\n",
    "queries, durations = [], []\n",
    "for row in df_sparql.itertuples(index=False):\n",
    "    answer = row.sparql_gen\n",
    "\n",
    "    start_time = time.perf_counter()\n",
    "    PROMPT = f\"\"\"\n",
    "Given the R2RML model described in the following TTL file:\n",
    "```ttl\n",
    "{r2rml}\n",
    "```\n",
    "Convert the following SPARQL query into a SQL query which will yield equivalent query results as the SPARQL query.\n",
    "In the SQL query use table name only and ignore any schema name or namespaces.\n",
    "Do not explain the query. return just the query, so it can be run verbatim from your response.\n",
    "Do not include any code fencing in the response.\n",
    "Here's the SPARQL query:\n",
    "{answer}\n",
    "    \"\"\"\n",
    "\n",
    "    messages = [{\"role\": \"user\", \"content\": PROMPT}\n",
    "                ]\n",
    "    response = utils.client.chat.completions.create(\n",
    "        # model='guardrails-bedrock-claude-4-sonnet', \n",
    "        # model = 'guardrails-o3-mini_v2025-01-31_EASTUS2', \n",
    "        model=utils.CHAT_MODEL,\n",
    "        messages=messages)\n",
    "    queries.append(response.choices[0].message.content)\n",
    "\n",
    "    end_time = time.perf_counter()\n",
    "    durations.append(end_time - start_time)\n",
    "\n",
    "df_sparql['sql_sparql'] = queries\n",
    "df_sparql['sql_sparql_dur'] = durations"
   ]
  },
  {
   "cell_type": "code",
   "execution_count": 45,
   "id": "84dd70a0",
   "metadata": {},
   "outputs": [],
   "source": [
    "df_sparql.to_excel('output/sparql_results.xlsx', index=False)"
   ]
  },
  {
   "cell_type": "markdown",
   "id": "1076bcd1",
   "metadata": {},
   "source": [
    "### SQL with R2RML\n",
    "\n",
    "This is an experiment to generate the SQL directly from R2RML.\n",
    "\n",
    "The R2RML file has 10280 tokens."
   ]
  },
  {
   "cell_type": "code",
   "execution_count": 46,
   "id": "fe29f521",
   "metadata": {},
   "outputs": [],
   "source": [
    "import time\n",
    "import utils \n",
    "\n",
    "with open('data/ACME_Insurance/data/data.world_P&C_Insurance_Ontology_V1.r2rml', 'r') as f:\n",
    "    r2rml = f.read()\n",
    "\n",
    "queries, durations = [], []\n",
    "for row in df_sparql.itertuples(index=False):\n",
    "    question = row.question\n",
    "\n",
    "    start_time = time.perf_counter()\n",
    "    PROMPT = f\"\"\"\n",
    "Given the R2RML model described in the following TTL file:\n",
    "```ttl\n",
    "{r2rml}\n",
    "```\n",
    "Write a SQL query that answers the question. Use the R2RML file to reverse-engineer the relational data model. \n",
    "Then use that relational data model for the SQL query that answers the question. \n",
    "In the SQL query use table name only and ignore any schema name or namespaces.\n",
    "Do not explain the query. return just the query, so it can be run verbatim from your response.\n",
    "Do not include any code fencing in the response.\n",
    "Here's the question:\n",
    "{question}\n",
    "    \"\"\"\n",
    "\n",
    "    messages = [{\"role\": \"user\", \"content\": PROMPT}\n",
    "                ]\n",
    "    response = utils.client.chat.completions.create(\n",
    "        # model='guardrails-bedrock-claude-4-sonnet', \n",
    "        # model = 'guardrails-o3-mini_v2025-01-31_EASTUS2', \n",
    "        model=utils.CHAT_MODEL,\n",
    "        messages=messages)\n",
    "    queries.append(response.choices[0].message.content)\n",
    "\n",
    "    end_time = time.perf_counter()\n",
    "    durations.append(end_time - start_time)\n",
    "\n",
    "df_sparql['sql_r2rml'] = queries\n",
    "df_sparql['sql_r2rml_dur'] = durations"
   ]
  },
  {
   "cell_type": "code",
   "execution_count": 47,
   "id": "248909a6",
   "metadata": {},
   "outputs": [],
   "source": [
    "df_sparql.to_excel('output/sparql_results.xlsx', index=False)"
   ]
  },
  {
   "cell_type": "markdown",
   "id": "ffd34cbc",
   "metadata": {},
   "source": [
    "## Evaluate"
   ]
  },
  {
   "cell_type": "code",
   "execution_count": null,
   "id": "ea183aab",
   "metadata": {},
   "outputs": [],
   "source": [
    "from typing import List, Tuple\n",
    "\n",
    "def run_sqls_for_sparql(column_name: str)->Tuple[List[str], List[str]]:\n",
    "    \"\"\"Execute the SQL queries on provided column_name one by one from df_sparql dataframe.\n",
    "    It also cross-reference df_sql for the standard-answer SQL and run those as well.\n",
    "    The standard-answer SQL results are stored in results_1, the column_name's SQL query results in results_2\n",
    "\n",
    "    Args:\n",
    "        column_name (str): column name of the df_sparql containing the SQL queries\n",
    "\n",
    "    Returns:\n",
    "        results_1 (list[str]): outputs of the standard answer SQL queries\n",
    "        results_2 (list[str]): outputs of the SQL queries from column_name of df_sparql dataframe\n",
    "    \"\"\"\n",
    "    results_1, results_2 = [], []\n",
    "    for idx, row in df_sparql.iterrows():\n",
    "        question = row['question'].strip().replace('  ', ' ')\n",
    "        # print(\"\\n\", question)\n",
    "\n",
    "        sql = df_sql[df_sql['question'].str.strip().replace('  ', ' ') == question].iloc[0]['sql']\n",
    "        answer = row[column_name]\n",
    "\n",
    "        try:\n",
    "            result1 = conn.execute(sql).fetch_df()\n",
    "        except Exception as e:\n",
    "            result1 = pd.DataFrame([f\"error: {e}\"])\n",
    "        \n",
    "        try:\n",
    "            result2 = conn.execute(answer).fetch_df()\n",
    "        except Exception as e:\n",
    "            result2 = pd.DataFrame([f\"error: {e}\"])\n",
    "            \n",
    "        results_1.append(result1)\n",
    "        results_2.append(result2)\n",
    "    return results_1, results_2"
   ]
  },
  {
   "cell_type": "markdown",
   "id": "31035f07",
   "metadata": {},
   "source": [
    "### Compare SQL (from R2RML) results"
   ]
  },
  {
   "cell_type": "code",
   "execution_count": 49,
   "id": "d596bc4b",
   "metadata": {},
   "outputs": [],
   "source": [
    "results_1, results_2 = run_sqls_for_sparql('sql_r2rml')"
   ]
  },
  {
   "cell_type": "code",
   "execution_count": 98,
   "id": "d3b2db51",
   "metadata": {},
   "outputs": [
    {
     "name": "stdout",
     "output_type": "stream",
     "text": [
      "correct anwers: 48.888888888888886%\n"
     ]
    }
   ],
   "source": [
    "correct_row_idxs = [0, 1, 2, 4, 5, 7, 8, 9, 11, 13, 18, 22, 24, 25, 26, 28, 30, 31, 35, 37, 39, 41]\n",
    "print(f\"correct anwers: {len(correct_row_idxs)/len(df_sql)*100}%\")"
   ]
  },
  {
   "cell_type": "code",
   "execution_count": 97,
   "id": "0ab677da",
   "metadata": {},
   "outputs": [
    {
     "ename": "IndexError",
     "evalue": "list index out of range",
     "output_type": "error",
     "traceback": [
      "\u001b[31m---------------------------------------------------------------------------\u001b[39m",
      "\u001b[31mIndexError\u001b[39m                                Traceback (most recent call last)",
      "\u001b[36mCell\u001b[39m\u001b[36m \u001b[39m\u001b[32mIn[97]\u001b[39m\u001b[32m, line 2\u001b[39m\n\u001b[32m      1\u001b[39m idx=\u001b[32m44\u001b[39m\n\u001b[32m----> \u001b[39m\u001b[32m2\u001b[39m \u001b[43mresults_1\u001b[49m\u001b[43m[\u001b[49m\u001b[43midx\u001b[49m\u001b[43m]\u001b[49m, results_2[idx]\n",
      "\u001b[31mIndexError\u001b[39m: list index out of range"
     ]
    }
   ],
   "source": [
    "idx=44\n",
    "results_1[idx], results_2[idx]"
   ]
  },
  {
   "cell_type": "markdown",
   "id": "24efa070",
   "metadata": {},
   "source": [
    "### Compare SQL (from SPARQL) results"
   ]
  },
  {
   "cell_type": "code",
   "execution_count": 99,
   "id": "bc3a4790",
   "metadata": {},
   "outputs": [],
   "source": [
    "results_1, results_2 = run_sqls_for_sparql('sql_sparql')"
   ]
  },
  {
   "cell_type": "code",
   "execution_count": null,
   "id": "9efc6d60",
   "metadata": {},
   "outputs": [
    {
     "name": "stdout",
     "output_type": "stream",
     "text": [
      "correct anwers: 73.33333333333333%\n"
     ]
    }
   ],
   "source": [
    "# 40 is arguable\n",
    "correct_row_idxs = [0, 1, 2, 3, 4, 5, 7, 8, 11, 13, 14, 15, 16, 18, 19, 20, 21, 22, 24, 25, 26, 27, 28, \n",
    "                    30, 31, 32, 34, 35, 39, 40, 41, 42, 43]\n",
    "print(f\"correct anwers: {len(correct_row_idxs)/len(df_sql)*100}%\")"
   ]
  },
  {
   "cell_type": "code",
   "execution_count": 115,
   "id": "c58f97c1",
   "metadata": {},
   "outputs": [
    {
     "data": {
      "text/plain": [
       "(   AgentID  Policy_Number  Company_Claim_Number  Loss_Reserve_Amount\n",
       " 0        2    31003000336              12312702                 2100\n",
       " 1        2    31003000336              12312701                 1000,\n",
       "    agentId  Policy_Number  claimNumber  lossReserveAmount\n",
       " 0        2    31003000336     12312702               2100\n",
       " 1        2    31003000336     12312701               1000)"
      ]
     },
     "execution_count": 115,
     "metadata": {},
     "output_type": "execute_result"
    }
   ],
   "source": [
    "idx=14\n",
    "results_1[idx], results_2[idx]"
   ]
  },
  {
   "cell_type": "markdown",
   "id": "86961574",
   "metadata": {},
   "source": [
    "# Plot Comparison"
   ]
  },
  {
   "cell_type": "code",
   "execution_count": 1,
   "id": "123750a7",
   "metadata": {},
   "outputs": [],
   "source": [
    "import pandas as pd\n",
    "\n",
    "df_sparql = pd.read_excel('output/sparql_results.xlsx')\n",
    "df_sql = pd.read_excel('output/sql_results.xlsx')"
   ]
  },
  {
   "cell_type": "code",
   "execution_count": 2,
   "id": "50006424",
   "metadata": {},
   "outputs": [
    {
     "name": "stderr",
     "output_type": "stream",
     "text": [
      "C:\\Users\\lawr1\\AppData\\Local\\Temp\\ipykernel_19824\\3557366030.py:3: SettingWithCopyWarning: \n",
      "A value is trying to be set on a copy of a slice from a DataFrame.\n",
      "Try using .loc[row_indexer,col_indexer] = value instead\n",
      "\n",
      "See the caveats in the documentation: https://pandas.pydata.org/pandas-docs/stable/user_guide/indexing.html#returning-a-view-versus-a-copy\n",
      "  df_combined['sql_ddl_dur'] = pd.NA\n",
      "C:\\Users\\lawr1\\AppData\\Local\\Temp\\ipykernel_19824\\3557366030.py:4: SettingWithCopyWarning: \n",
      "A value is trying to be set on a copy of a slice from a DataFrame.\n",
      "Try using .loc[row_indexer,col_indexer] = value instead\n",
      "\n",
      "See the caveats in the documentation: https://pandas.pydata.org/pandas-docs/stable/user_guide/indexing.html#returning-a-view-versus-a-copy\n",
      "  df_combined['sql_ddlcmt_dur'] = None\n"
     ]
    }
   ],
   "source": [
    "# build combined df from df_sql and df_sparql\n",
    "df_combined = df_sparql[['question', 'sparql_gen_dur', 'sql_r2rml_dur', 'sql_sparql_dur']]\n",
    "df_combined['sql_ddl_dur'] = pd.NA\n",
    "df_combined['sql_ddlcmt_dur'] = None\n",
    "\n",
    "for row in df_combined.itertuples():\n",
    "    question = row.question.strip().replace('  ', ' ')\n",
    "\n",
    "    sql_row = df_sql[df_sql['question'].str.strip().replace('  ', ' ') == question]\n",
    "    df_combined.loc[row[0], 'sql_ddl_dur'] = sql_row.iloc[0].dur_ddl\n",
    "    df_combined.loc[row[0], 'sql_ddlcmt_dur'] = sql_row.iloc[0].dur_ddlcmt\n",
    "    "
   ]
  },
  {
   "cell_type": "code",
   "execution_count": 3,
   "id": "10726b52",
   "metadata": {},
   "outputs": [
    {
     "data": {
      "application/vnd.plotly.v1+json": {
       "config": {
        "plotlyServerURL": "https://plot.ly"
       },
       "data": [
        {
         "marker": {
          "color": "blue"
         },
         "name": "Accuracy (%)",
         "offsetgroup": "1",
         "opacity": 0.7,
         "type": "bar",
         "width": 0.3,
         "x": [
          "DDL",
          "DDL & comments",
          "R2RML",
          "RDF & R2RML"
         ],
         "xaxis": "x",
         "y": [
          46.67,
          75.56,
          48.89,
          73.33
         ],
         "yaxis": "y"
        },
        {
         "marker": {
          "color": "purple"
         },
         "name": "Duration (s)",
         "offsetgroup": "0",
         "opacity": 0.7,
         "type": "bar",
         "x": [
          "DDL",
          "DDL & comments",
          "R2RML",
          "RDF & R2RML"
         ],
         "xaxis": "x",
         "y": [
          101.725395599904,
          111.43153920012992,
          114.13757620018441,
          95.26999169966439
         ],
         "yaxis": "y"
        },
        {
         "marker": {
          "color": "purple"
         },
         "name": "Duration (s)",
         "offsetgroup": "0",
         "opacity": 0.4,
         "type": "bar",
         "x": [
          "DDL",
          "DDL & comments",
          "R2RML",
          "RDF & R2RML"
         ],
         "xaxis": "x",
         "y": [
          0,
          0,
          0,
          227.96703720017103
         ],
         "yaxis": "y"
        },
        {
         "marker": {
          "color": "red"
         },
         "name": "No. tokens",
         "offsetgroup": "2",
         "opacity": 0.7,
         "type": "bar",
         "x": [
          "DDL",
          "DDL & comments",
          "R2RML",
          "RDF & R2RML"
         ],
         "xaxis": "x",
         "y": [
          1505,
          2077,
          10280,
          2762
         ],
         "yaxis": "y2"
        },
        {
         "marker": {
          "color": "red"
         },
         "name": "No. tokens",
         "offsetgroup": "2",
         "opacity": 0.4,
         "type": "bar",
         "x": [
          "DDL",
          "DDL & comments",
          "R2RML",
          "RDF & R2RML"
         ],
         "xaxis": "x",
         "y": [
          0,
          0,
          0,
          13042
         ],
         "yaxis": "y2"
        }
       ],
       "layout": {
        "bargap": 0.1,
        "bargroupgap": 0.1,
        "barmode": "group",
        "template": {
         "data": {
          "bar": [
           {
            "error_x": {
             "color": "#2a3f5f"
            },
            "error_y": {
             "color": "#2a3f5f"
            },
            "marker": {
             "line": {
              "color": "#E5ECF6",
              "width": 0.5
             },
             "pattern": {
              "fillmode": "overlay",
              "size": 10,
              "solidity": 0.2
             }
            },
            "type": "bar"
           }
          ],
          "barpolar": [
           {
            "marker": {
             "line": {
              "color": "#E5ECF6",
              "width": 0.5
             },
             "pattern": {
              "fillmode": "overlay",
              "size": 10,
              "solidity": 0.2
             }
            },
            "type": "barpolar"
           }
          ],
          "carpet": [
           {
            "aaxis": {
             "endlinecolor": "#2a3f5f",
             "gridcolor": "white",
             "linecolor": "white",
             "minorgridcolor": "white",
             "startlinecolor": "#2a3f5f"
            },
            "baxis": {
             "endlinecolor": "#2a3f5f",
             "gridcolor": "white",
             "linecolor": "white",
             "minorgridcolor": "white",
             "startlinecolor": "#2a3f5f"
            },
            "type": "carpet"
           }
          ],
          "choropleth": [
           {
            "colorbar": {
             "outlinewidth": 0,
             "ticks": ""
            },
            "type": "choropleth"
           }
          ],
          "contour": [
           {
            "colorbar": {
             "outlinewidth": 0,
             "ticks": ""
            },
            "colorscale": [
             [
              0,
              "#0d0887"
             ],
             [
              0.1111111111111111,
              "#46039f"
             ],
             [
              0.2222222222222222,
              "#7201a8"
             ],
             [
              0.3333333333333333,
              "#9c179e"
             ],
             [
              0.4444444444444444,
              "#bd3786"
             ],
             [
              0.5555555555555556,
              "#d8576b"
             ],
             [
              0.6666666666666666,
              "#ed7953"
             ],
             [
              0.7777777777777778,
              "#fb9f3a"
             ],
             [
              0.8888888888888888,
              "#fdca26"
             ],
             [
              1,
              "#f0f921"
             ]
            ],
            "type": "contour"
           }
          ],
          "contourcarpet": [
           {
            "colorbar": {
             "outlinewidth": 0,
             "ticks": ""
            },
            "type": "contourcarpet"
           }
          ],
          "heatmap": [
           {
            "colorbar": {
             "outlinewidth": 0,
             "ticks": ""
            },
            "colorscale": [
             [
              0,
              "#0d0887"
             ],
             [
              0.1111111111111111,
              "#46039f"
             ],
             [
              0.2222222222222222,
              "#7201a8"
             ],
             [
              0.3333333333333333,
              "#9c179e"
             ],
             [
              0.4444444444444444,
              "#bd3786"
             ],
             [
              0.5555555555555556,
              "#d8576b"
             ],
             [
              0.6666666666666666,
              "#ed7953"
             ],
             [
              0.7777777777777778,
              "#fb9f3a"
             ],
             [
              0.8888888888888888,
              "#fdca26"
             ],
             [
              1,
              "#f0f921"
             ]
            ],
            "type": "heatmap"
           }
          ],
          "histogram": [
           {
            "marker": {
             "pattern": {
              "fillmode": "overlay",
              "size": 10,
              "solidity": 0.2
             }
            },
            "type": "histogram"
           }
          ],
          "histogram2d": [
           {
            "colorbar": {
             "outlinewidth": 0,
             "ticks": ""
            },
            "colorscale": [
             [
              0,
              "#0d0887"
             ],
             [
              0.1111111111111111,
              "#46039f"
             ],
             [
              0.2222222222222222,
              "#7201a8"
             ],
             [
              0.3333333333333333,
              "#9c179e"
             ],
             [
              0.4444444444444444,
              "#bd3786"
             ],
             [
              0.5555555555555556,
              "#d8576b"
             ],
             [
              0.6666666666666666,
              "#ed7953"
             ],
             [
              0.7777777777777778,
              "#fb9f3a"
             ],
             [
              0.8888888888888888,
              "#fdca26"
             ],
             [
              1,
              "#f0f921"
             ]
            ],
            "type": "histogram2d"
           }
          ],
          "histogram2dcontour": [
           {
            "colorbar": {
             "outlinewidth": 0,
             "ticks": ""
            },
            "colorscale": [
             [
              0,
              "#0d0887"
             ],
             [
              0.1111111111111111,
              "#46039f"
             ],
             [
              0.2222222222222222,
              "#7201a8"
             ],
             [
              0.3333333333333333,
              "#9c179e"
             ],
             [
              0.4444444444444444,
              "#bd3786"
             ],
             [
              0.5555555555555556,
              "#d8576b"
             ],
             [
              0.6666666666666666,
              "#ed7953"
             ],
             [
              0.7777777777777778,
              "#fb9f3a"
             ],
             [
              0.8888888888888888,
              "#fdca26"
             ],
             [
              1,
              "#f0f921"
             ]
            ],
            "type": "histogram2dcontour"
           }
          ],
          "mesh3d": [
           {
            "colorbar": {
             "outlinewidth": 0,
             "ticks": ""
            },
            "type": "mesh3d"
           }
          ],
          "parcoords": [
           {
            "line": {
             "colorbar": {
              "outlinewidth": 0,
              "ticks": ""
             }
            },
            "type": "parcoords"
           }
          ],
          "pie": [
           {
            "automargin": true,
            "type": "pie"
           }
          ],
          "scatter": [
           {
            "fillpattern": {
             "fillmode": "overlay",
             "size": 10,
             "solidity": 0.2
            },
            "type": "scatter"
           }
          ],
          "scatter3d": [
           {
            "line": {
             "colorbar": {
              "outlinewidth": 0,
              "ticks": ""
             }
            },
            "marker": {
             "colorbar": {
              "outlinewidth": 0,
              "ticks": ""
             }
            },
            "type": "scatter3d"
           }
          ],
          "scattercarpet": [
           {
            "marker": {
             "colorbar": {
              "outlinewidth": 0,
              "ticks": ""
             }
            },
            "type": "scattercarpet"
           }
          ],
          "scattergeo": [
           {
            "marker": {
             "colorbar": {
              "outlinewidth": 0,
              "ticks": ""
             }
            },
            "type": "scattergeo"
           }
          ],
          "scattergl": [
           {
            "marker": {
             "colorbar": {
              "outlinewidth": 0,
              "ticks": ""
             }
            },
            "type": "scattergl"
           }
          ],
          "scattermap": [
           {
            "marker": {
             "colorbar": {
              "outlinewidth": 0,
              "ticks": ""
             }
            },
            "type": "scattermap"
           }
          ],
          "scattermapbox": [
           {
            "marker": {
             "colorbar": {
              "outlinewidth": 0,
              "ticks": ""
             }
            },
            "type": "scattermapbox"
           }
          ],
          "scatterpolar": [
           {
            "marker": {
             "colorbar": {
              "outlinewidth": 0,
              "ticks": ""
             }
            },
            "type": "scatterpolar"
           }
          ],
          "scatterpolargl": [
           {
            "marker": {
             "colorbar": {
              "outlinewidth": 0,
              "ticks": ""
             }
            },
            "type": "scatterpolargl"
           }
          ],
          "scatterternary": [
           {
            "marker": {
             "colorbar": {
              "outlinewidth": 0,
              "ticks": ""
             }
            },
            "type": "scatterternary"
           }
          ],
          "surface": [
           {
            "colorbar": {
             "outlinewidth": 0,
             "ticks": ""
            },
            "colorscale": [
             [
              0,
              "#0d0887"
             ],
             [
              0.1111111111111111,
              "#46039f"
             ],
             [
              0.2222222222222222,
              "#7201a8"
             ],
             [
              0.3333333333333333,
              "#9c179e"
             ],
             [
              0.4444444444444444,
              "#bd3786"
             ],
             [
              0.5555555555555556,
              "#d8576b"
             ],
             [
              0.6666666666666666,
              "#ed7953"
             ],
             [
              0.7777777777777778,
              "#fb9f3a"
             ],
             [
              0.8888888888888888,
              "#fdca26"
             ],
             [
              1,
              "#f0f921"
             ]
            ],
            "type": "surface"
           }
          ],
          "table": [
           {
            "cells": {
             "fill": {
              "color": "#EBF0F8"
             },
             "line": {
              "color": "white"
             }
            },
            "header": {
             "fill": {
              "color": "#C8D4E3"
             },
             "line": {
              "color": "white"
             }
            },
            "type": "table"
           }
          ]
         },
         "layout": {
          "annotationdefaults": {
           "arrowcolor": "#2a3f5f",
           "arrowhead": 0,
           "arrowwidth": 1
          },
          "autotypenumbers": "strict",
          "coloraxis": {
           "colorbar": {
            "outlinewidth": 0,
            "ticks": ""
           }
          },
          "colorscale": {
           "diverging": [
            [
             0,
             "#8e0152"
            ],
            [
             0.1,
             "#c51b7d"
            ],
            [
             0.2,
             "#de77ae"
            ],
            [
             0.3,
             "#f1b6da"
            ],
            [
             0.4,
             "#fde0ef"
            ],
            [
             0.5,
             "#f7f7f7"
            ],
            [
             0.6,
             "#e6f5d0"
            ],
            [
             0.7,
             "#b8e186"
            ],
            [
             0.8,
             "#7fbc41"
            ],
            [
             0.9,
             "#4d9221"
            ],
            [
             1,
             "#276419"
            ]
           ],
           "sequential": [
            [
             0,
             "#0d0887"
            ],
            [
             0.1111111111111111,
             "#46039f"
            ],
            [
             0.2222222222222222,
             "#7201a8"
            ],
            [
             0.3333333333333333,
             "#9c179e"
            ],
            [
             0.4444444444444444,
             "#bd3786"
            ],
            [
             0.5555555555555556,
             "#d8576b"
            ],
            [
             0.6666666666666666,
             "#ed7953"
            ],
            [
             0.7777777777777778,
             "#fb9f3a"
            ],
            [
             0.8888888888888888,
             "#fdca26"
            ],
            [
             1,
             "#f0f921"
            ]
           ],
           "sequentialminus": [
            [
             0,
             "#0d0887"
            ],
            [
             0.1111111111111111,
             "#46039f"
            ],
            [
             0.2222222222222222,
             "#7201a8"
            ],
            [
             0.3333333333333333,
             "#9c179e"
            ],
            [
             0.4444444444444444,
             "#bd3786"
            ],
            [
             0.5555555555555556,
             "#d8576b"
            ],
            [
             0.6666666666666666,
             "#ed7953"
            ],
            [
             0.7777777777777778,
             "#fb9f3a"
            ],
            [
             0.8888888888888888,
             "#fdca26"
            ],
            [
             1,
             "#f0f921"
            ]
           ]
          },
          "colorway": [
           "#636efa",
           "#EF553B",
           "#00cc96",
           "#ab63fa",
           "#FFA15A",
           "#19d3f3",
           "#FF6692",
           "#B6E880",
           "#FF97FF",
           "#FECB52"
          ],
          "font": {
           "color": "#2a3f5f"
          },
          "geo": {
           "bgcolor": "white",
           "lakecolor": "white",
           "landcolor": "#E5ECF6",
           "showlakes": true,
           "showland": true,
           "subunitcolor": "white"
          },
          "hoverlabel": {
           "align": "left"
          },
          "hovermode": "closest",
          "mapbox": {
           "style": "light"
          },
          "paper_bgcolor": "white",
          "plot_bgcolor": "#E5ECF6",
          "polar": {
           "angularaxis": {
            "gridcolor": "white",
            "linecolor": "white",
            "ticks": ""
           },
           "bgcolor": "#E5ECF6",
           "radialaxis": {
            "gridcolor": "white",
            "linecolor": "white",
            "ticks": ""
           }
          },
          "scene": {
           "xaxis": {
            "backgroundcolor": "#E5ECF6",
            "gridcolor": "white",
            "gridwidth": 2,
            "linecolor": "white",
            "showbackground": true,
            "ticks": "",
            "zerolinecolor": "white"
           },
           "yaxis": {
            "backgroundcolor": "#E5ECF6",
            "gridcolor": "white",
            "gridwidth": 2,
            "linecolor": "white",
            "showbackground": true,
            "ticks": "",
            "zerolinecolor": "white"
           },
           "zaxis": {
            "backgroundcolor": "#E5ECF6",
            "gridcolor": "white",
            "gridwidth": 2,
            "linecolor": "white",
            "showbackground": true,
            "ticks": "",
            "zerolinecolor": "white"
           }
          },
          "shapedefaults": {
           "line": {
            "color": "#2a3f5f"
           }
          },
          "ternary": {
           "aaxis": {
            "gridcolor": "white",
            "linecolor": "white",
            "ticks": ""
           },
           "baxis": {
            "gridcolor": "white",
            "linecolor": "white",
            "ticks": ""
           },
           "bgcolor": "#E5ECF6",
           "caxis": {
            "gridcolor": "white",
            "linecolor": "white",
            "ticks": ""
           }
          },
          "title": {
           "x": 0.05
          },
          "xaxis": {
           "automargin": true,
           "gridcolor": "white",
           "linecolor": "white",
           "ticks": "",
           "title": {
            "standoff": 15
           },
           "zerolinecolor": "white",
           "zerolinewidth": 2
          },
          "yaxis": {
           "automargin": true,
           "gridcolor": "white",
           "linecolor": "white",
           "ticks": "",
           "title": {
            "standoff": 15
           },
           "zerolinecolor": "white",
           "zerolinewidth": 2
          }
         }
        },
        "title": {
         "text": "Comparison"
        },
        "xaxis": {
         "anchor": "y",
         "domain": [
          0,
          0.94
         ],
         "title": {
          "text": "Categories"
         }
        },
        "yaxis": {
         "anchor": "x",
         "color": "blue",
         "domain": [
          0,
          1
         ],
         "title": {
          "text": "Accuracy (%), Duration (s)"
         }
        },
        "yaxis2": {
         "anchor": "x",
         "color": "red",
         "overlaying": "y",
         "side": "right",
         "title": {
          "text": "No. tokens"
         }
        }
       }
      }
     },
     "metadata": {},
     "output_type": "display_data"
    }
   ],
   "source": [
    "import plotly.graph_objects as go\n",
    "from plotly.subplots import make_subplots\n",
    "\n",
    "# Create subplots with secondary y-axis\n",
    "fig = make_subplots(specs=[[{\"secondary_y\": True}]])\n",
    "\n",
    "# Sample data\n",
    "categories = ['DDL', 'DDL & comments', 'R2RML', 'RDF & R2RML']\n",
    "values1 = [46.67, 75.56, 48.89, 73.33] # accuracy\n",
    "values2 = [1505, 2077, 10280, 2762] # num tokens\n",
    "values2_1 = [0, 0, 0, 10280+2762]\n",
    "values3 = [df_combined['sql_ddl_dur'].sum(), \n",
    "           df_combined['sql_ddlcmt_dur'].sum(), \n",
    "           df_combined['sql_r2rml_dur'].sum(),\n",
    "           df_combined['sparql_gen_dur'].sum() \n",
    "           ] # duration (s)\n",
    "values3_1 = [0,0,0, df_combined['sparql_gen_dur'].sum() + df_combined['sql_sparql_dur'].sum()]\n",
    "\n",
    "# Add first bar chart\n",
    "fig.add_trace(\n",
    "    go.Bar(x=categories, y=values1, name=\"Accuracy (%)\", offsetgroup=1,\n",
    "           marker_color='blue', opacity=0.7, width=0.3),\n",
    "    secondary_y=False,\n",
    ")\n",
    "# Add third bar chart\n",
    "fig.add_trace(\n",
    "    go.Bar(x=categories, y=values3, name=\"Duration (s)\", offsetgroup=0,\n",
    "           marker_color='purple', opacity=0.7),\n",
    "    secondary_y=False,\n",
    ")\n",
    "fig.add_trace(\n",
    "    go.Bar(x=categories, y=values3_1, name=\"Duration (s)\", offsetgroup=0,\n",
    "           marker_color='purple', opacity=0.4),\n",
    "    secondary_y=False,\n",
    ")\n",
    "\n",
    "# Add second bar chart\n",
    "fig.add_trace(\n",
    "    go.Bar(x=categories, y=values2, name=\"No. tokens\", offsetgroup=2,\n",
    "           marker_color='red', opacity=0.7),\n",
    "    secondary_y=True,\n",
    ")\n",
    "fig.add_trace(\n",
    "    go.Bar(x=categories, y=values2_1, name=\"No. tokens\", offsetgroup=2,\n",
    "           marker_color='red', opacity=0.4),\n",
    "    secondary_y=True,\n",
    ")\n",
    "\n",
    "# Set y-axes titles\n",
    "fig.update_yaxes(title_text=\"Accuracy (%), Duration (s)\", secondary_y=False, color='blue')\n",
    "fig.update_yaxes(title_text=\"No. tokens\", secondary_y=True, color='red')\n",
    "\n",
    "# Set x-axis title\n",
    "fig.update_xaxes(title_text=\"Categories\")\n",
    "\n",
    "fig.update_layout(title=\"Comparison\", barmode='group',\n",
    "                  bargap=0.1, bargroupgap=0.1)\n",
    "fig.show()"
   ]
  },
  {
   "cell_type": "code",
   "execution_count": 20,
   "id": "a272cbaa",
   "metadata": {},
   "outputs": [
    {
     "data": {
      "image/png": "[encoded data removed]",
      "text/plain": [
       "<Figure size 1000x400 with 1 Axes>"
      ]
     },
     "metadata": {},
     "output_type": "display_data"
    }
   ],
   "source": [
    "import matplotlib.pyplot as plt\n",
    "categories = ['DDL', 'DDL & comments', 'SPARQL', 'R2RML']\n",
    "column_names = ['sql_ddl_dur', 'sql_ddlcmt_dur', 'sparql_gen_dur', 'sql_r2rml_dur' ]\n",
    "\n",
    "plt.figure(figsize=(10,4))\n",
    "for col, cat in zip(column_names, categories):\n",
    "    plt.plot(range(len(df_combined)), df_combined[col], label=cat)\n",
    "plt.plot(range(len(df_combined)), df_combined['sparql_gen_dur'] + df_combined['sql_sparql_dur'], \n",
    "         label='RDF & R2RML')\n",
    "    \n",
    "plt.legend()\n",
    "plt.title('LLM Duration for Query Generation')\n",
    "plt.ylabel('duration (s)')\n",
    "plt.xlabel('question')\n",
    "plt.show()"
   ]
  },
  {
   "cell_type": "code",
   "execution_count": 14,
   "id": "1d425f10",
   "metadata": {},
   "outputs": [
    {
     "data": {
      "image/png": "[encoded data removed]",
      "text/plain": [
       "<Figure size 500x300 with 2 Axes>"
      ]
     },
     "metadata": {},
     "output_type": "display_data"
    }
   ],
   "source": [
    "import matplotlib.pyplot as plt\n",
    "\n",
    "categories = ['DDL', 'DDL & comments', 'R2RML', 'RDF & R2RML']\n",
    "color1, color2 = 'tab:blue', 'tab:orange'\n",
    "fig, ax1 = plt.subplots(figsize=(5, 3))\n",
    "ax1.bar([x - 0.2 for x in range(len(categories))],\n",
    "        [46.67, 75.56, 48.89, 73.33], width=0.4, color=color1)\n",
    "ax1.set_xlabel('Categories')\n",
    "ax1.set_ylabel('Accuracy', color=color1)\n",
    "ax1.set_xticks(range(len(categories)), categories)\n",
    "\n",
    "ax2 = ax1.twinx()\n",
    "ax2.bar([x + 0.2 for x in range(len(categories))],\n",
    "        [1505, 2077, 10280, 10280+2762], width=0.4, color=color2)\n",
    "ax2.set_ylabel(\"No. of tokens\", color=color2)\n",
    "\n",
    "plt.tight_layout()\n",
    "plt.show()"
   ]
  },
  {
   "cell_type": "markdown",
   "id": "5016aace",
   "metadata": {},
   "source": [
    "## Ontology"
   ]
  },
  {
   "cell_type": "code",
   "execution_count": 12,
   "id": "504da865",
   "metadata": {},
   "outputs": [
    {
     "name": "stdout",
     "output_type": "stream",
     "text": [
      "Total triples: 164\n",
      "Entity types: {}\n"
     ]
    }
   ],
   "source": [
    "from ttl_to_dataframe import read_ttl_to_dataframe, analyze_ttl_content\n",
    "\n",
    "# Load TTL file into structured DataFrames\n",
    "df_triples, df_structured = read_ttl_to_dataframe(\"data/ACME_Insurance/ontology/insurance.ttl\")\n",
    "\n",
    "# Analyze the content\n",
    "analysis = analyze_ttl_content(df_triples, df_structured)\n",
    "\n",
    "print(f\"Total triples: {analysis['total_triples']}\")\n",
    "print(f\"Entity types: {analysis['entity_types']}\")"
   ]
  },
  {
   "cell_type": "code",
   "execution_count": 14,
   "id": "aafc79b3",
   "metadata": {},
   "outputs": [
    {
     "data": {
      "text/html": [
       "<div>\n",
       "<style scoped>\n",
       "    .dataframe tbody tr th:only-of-type {\n",
       "        vertical-align: middle;\n",
       "    }\n",
       "\n",
       "    .dataframe tbody tr th {\n",
       "        vertical-align: top;\n",
       "    }\n",
       "\n",
       "    .dataframe thead th {\n",
       "        text-align: right;\n",
       "    }\n",
       "</style>\n",
       "<table border=\"1\" class=\"dataframe\">\n",
       "  <thead>\n",
       "    <tr style=\"text-align: right;\">\n",
       "      <th></th>\n",
       "    </tr>\n",
       "  </thead>\n",
       "  <tbody>\n",
       "  </tbody>\n",
       "</table>\n",
       "</div>"
      ],
      "text/plain": [
       "Empty DataFrame\n",
       "Columns: []\n",
       "Index: []"
      ]
     },
     "execution_count": 14,
     "metadata": {},
     "output_type": "execute_result"
    }
   ],
   "source": [
    "df_structured"
   ]
  }
 ],
 "metadata": {
  "kernelspec": {
   "display_name": "Python 3",
   "language": "python",
   "name": "python3"
  },
  "language_info": {
   "codemirror_mode": {
    "name": "ipython",
    "version": 3
   },
   "file_extension": ".py",
   "mimetype": "text/x-python",
   "name": "python",
   "nbconvert_exporter": "python",
   "pygments_lexer": "ipython3",
   "version": "3.13.2"
  }
 },
 "nbformat": 4,
 "nbformat_minor": 5
}
